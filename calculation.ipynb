{
 "cells": [
  {
   "cell_type": "code",
   "execution_count": 1,
   "id": "informative-reducing",
   "metadata": {},
   "outputs": [],
   "source": [
    "import numpy as np\n",
    "import math\n",
    "import matplotlib.pyplot as plt\n"
   ]
  },
  {
   "cell_type": "code",
   "execution_count": 27,
   "id": "proprietary-station",
   "metadata": {},
   "outputs": [
    {
     "name": "stdout",
     "output_type": "stream",
     "text": [
      "[ 3.56796355  3.56796355  4.13820042  4.13820042  4.75069132  4.75069132\n",
      "  5.40543624  5.40543624  6.10243518  6.10243518  6.84168815  6.84168815\n",
      "  7.62319515  7.62319515  8.44695617  8.44695617  9.31297121  9.31297121\n",
      " 10.22124028 10.22124028 11.17176338 11.17176338 12.16454049 12.16454049]\n"
     ]
    },
    {
     "data": {
      "image/png": "[encoded data removed]",
      "text/plain": [
       "<Figure size 432x288 with 1 Axes>"
      ]
     },
     "metadata": {
      "needs_background": "light"
     },
     "output_type": "display_data"
    },
    {
     "name": "stdout",
     "output_type": "stream",
     "text": [
      "slope:  3.4787587412587415\n",
      "b:  -2.526317016317011\n"
     ]
    }
   ],
   "source": [
    "\n",
    "#swing range\n",
    "inputs = np.linspace(1.8, 4.0, 12)\n",
    "inputs = np.repeat(inputs, 2)\n",
    "\n",
    "#fly distance\n",
    "outputs = np.array([3.92, 4.05, 4.63,4.50, 5.49, 5.55, 6.02, 5.77, 6.23, 6.31, 7.37,7.25, 7.60, 7.53, 7.78, 7.67, 8.22, 8.14, 10.56, 10.47, 11.2, 11.27, 12.0,11.96])\n",
    "\n",
    "m, b = np.polyfit(inputs, outputs, 1)\n",
    "\n",
    "\n",
    "\n",
    "\n",
    "\n",
    "\n",
    "\n",
    "r_end = 0.605\n",
    "arc_base = 3.6\n",
    "r_base = 0.402 + 0.3745\n",
    "\n",
    "energy_loss = 0.1763712\n",
    "mass_ratio = energy_loss*(0.5/0.04593)\n",
    "\n",
    "angle_i = 0.556\n",
    "\n",
    "R = ((((inputs * (0.785*r_end + r_base) + 1)*mass_ratio)**2)*math.sin(2*angle_i))/9.8\n",
    "\n",
    "\n",
    "\n",
    "print(R)\n",
    "\n",
    "\n",
    "\n",
    "\n",
    "\n",
    "plt.scatter(inputs, outputs)\n",
    "plt.scatter(inputs, R)\n",
    "plt.plot(inputs, m*inputs + b)\n",
    "plt.grid()\n",
    "\n",
    "plt.xlabel(\"Swing Duration /(s/)\")\n",
    "plt.ylabel(\"Fly Distance /(m/)\")\n",
    "plt.show()\n",
    "\n",
    "\n",
    "print(\"slope: \", m)\n",
    "print(\"b: \", b)"
   ]
  },
  {
   "cell_type": "code",
   "execution_count": null,
   "id": "unique-share",
   "metadata": {},
   "outputs": [],
   "source": []
  }
 ],
 "metadata": {
  "kernelspec": {
   "display_name": "Python 3",
   "language": "python",
   "name": "python3"
  },
  "language_info": {
   "codemirror_mode": {
    "name": "ipython",
    "version": 3
   },
   "file_extension": ".py",
   "mimetype": "text/x-python",
   "name": "python",
   "nbconvert_exporter": "python",
   "pygments_lexer": "ipython3",
   "version": "3.8.5"
  }
 },
 "nbformat": 4,
 "nbformat_minor": 5
}
