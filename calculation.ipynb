{
 "cells": [
  {
   "cell_type": "code",
   "execution_count": 34,
   "id": "informative-reducing",
   "metadata": {},
   "outputs": [],
   "source": [
    "import numpy as np\n",
    "import math\n",
    "import matplotlib.pyplot as plt\n"
   ]
  },
  {
   "cell_type": "markdown",
   "id": "rural-short",
   "metadata": {},
   "source": [
    "### Numerical solution\n",
    "\n",
    "The numerical solution is done by:\n",
    "1. collecting data of the input (base joint swing range) and output (ball travel distance)\n",
    "2. using linear fit to find the parameters\n",
    "3. using the measured distance to find the required base swing range (rad). The wrist swing range is always 0.785 * base swing range"
   ]
  },
  {
   "cell_type": "code",
   "execution_count": 35,
   "id": "public-wheat",
   "metadata": {},
   "outputs": [
    {
     "data": {
      "image/png": "[encoded data removed]",
      "text/plain": [
       "<Figure size 432x288 with 1 Axes>"
      ]
     },
     "metadata": {
      "needs_background": "light"
     },
     "output_type": "display_data"
    },
    {
     "name": "stdout",
     "output_type": "stream",
     "text": [
      "slope:  3.4787587412587415\n",
      "b:  -2.526317016317011\n"
     ]
    }
   ],
   "source": [
    "#swing range\n",
    "inputs = np.linspace(1.8, 4.0, 12)\n",
    "inputs = np.repeat(inputs, 2)\n",
    "\n",
    "#fly distance\n",
    "outputs = np.array([3.92, 4.05, 4.63,4.50, 5.49, 5.55, 6.02, 5.77, 6.23, 6.31, 7.37,7.25, 7.60, 7.53, 7.78, 7.67, 8.22, 8.14, 10.56, 10.47, 11.2, 11.27, 12.0,11.96])\n",
    "\n",
    "m, b = np.polyfit(inputs, outputs, 1)\n",
    "\n",
    "\n",
    "\n",
    "plt.scatter(inputs, outputs)\n",
    "plt.plot(inputs, m*inputs + b)\n",
    "plt.grid()\n",
    "\n",
    "plt.xlabel(\"Base Swing Range (rad)\")\n",
    "plt.ylabel(\"Fly Distance (m)\")\n",
    "plt.show()\n",
    "\n",
    "\n",
    "print(\"slope: \", m)\n",
    "print(\"b: \", b)"
   ]
  },
  {
   "cell_type": "code",
   "execution_count": null,
   "id": "extreme-startup",
   "metadata": {},
   "outputs": [],
   "source": []
  },
  {
   "cell_type": "markdown",
   "id": "pharmaceutical-stopping",
   "metadata": {},
   "source": [
    "### Analytical solution (with a little numerical trick)\n",
    "\n",
    "Similar to the numerical solution, the input is the base joint rotation range (rad) and the output is the golf ball travel distance in the air. Here is the derivation.\n",
    "\n",
    "Point mass projectile range equation (assuming the golf ball is a point mass and the golf club angle is the initial angle):\n",
    "\\begin{equation}\n",
    "R = \\frac{v_{i}^{2}sin(2\\theta_{i})}{g}\n",
    "\\end{equation}\n",
    "\n",
    "Move the variables, we get\n",
    "\\begin{equation}\n",
    "v_{ball} = v_{i} = \\sqrt{\\frac{Rg}{sin(2\\theta_{i})}}\n",
    "\\end{equation}\n",
    "\n",
    "\n",
    "The next part is a little bit unrealistic due to the strange behavior of the physics engine. The golf club does not lose any velocity after hitting the golf ball. Even when I set the ball mass to be 100 kg, the golf club will still keep the same velocity after hitting the 100 kg golf ball. This part deverses a further investigation.\n",
    "\n",
    "For now in this simulation, let's assume a relationship between the golf club momentum and the golf ball momentum governed by a constant k, which describes the energy gain in the system due to this strange behavior\n",
    "\n",
    "\n",
    "\\begin{equation}\n",
    "m_{club}v_{club} = km_{ball}v_{ball}\n",
    "\\end{equation}\n",
    "\n",
    "\\begin{equation}\n",
    "v_{club} = \\frac{km_{ball}}{m_{club}}v_{ball}\n",
    "\\end{equation}\n",
    "\\begin{equation}\n",
    "v_{club} = \\frac{km_{ball}}{m_{club}}\\sqrt{\\frac{Rg}{sin(2\\theta_{i})}}\n",
    "\\end{equation}\n",
    "\n",
    "the golf club velocity is determined by the base joint linear velocity $v_{base}$, wrist joint linear velocity $v_{end}$, and the mobile platform velocity, which is set to be always 1 m/s in this case.\n",
    "\n",
    "\\begin{equation}\n",
    "1.0 + v_{base} + v_{end} = \\frac{km_{ball}}{m_{club}}\\sqrt{\\frac{Rg}{sin(2\\theta_{i})}}\n",
    "\\end{equation}\n",
    "\n",
    "Turn in to angular velocity\n",
    "\n",
    "\\begin{equation}\n",
    "1.0 + \\omega_{base}r_{base} + \\omega_{end}r_{end} = \\frac{km_{ball}}{m_{club}}\\sqrt{\\frac{Rg}{sin(2\\theta_{i})}}\n",
    "\\end{equation}\n",
    "\n",
    "The input (base joint rotation angle) will come in here. The swing duration t is always set to 1.0s, so the rotation angle is $\\phi_{base} = \\omega_{base}t$\n",
    "\n",
    "\\begin{equation}\n",
    "1.0 + \\frac{\\phi_{base}}{t}r_{base} + \\frac{\\phi_{end}}{t}r_{end} = \\frac{km_{ball}}{m_{club}}\\sqrt{\\frac{Rg}{sin(2\\theta_{i})}}\n",
    "\\end{equation}\n",
    "\n",
    "\\begin{equation}\n",
    "1.0 + \\phi_{base}r_{base} + \\phi_{end}r_{end} = \\frac{km_{ball}}{m_{club}}\\sqrt{\\frac{Rg}{sin(2\\theta_{i})}}\n",
    "\\end{equation}\n",
    "\n",
    "For simplicity, we can set the wrist rotation angle depend on the base joint angle which is a valid assumption in a human golf swing.\n",
    "\n",
    "\\begin{equation}\n",
    "\\phi_{end} = 0.785\\phi_{base}\n",
    "\\end{equation}\n",
    "\n",
    "\\begin{equation}\n",
    "1.0 + \\phi_{base}r_{base} + 0.785\\phi_{base}r_{end} = \\frac{km_{ball}}{m_{club}}\\sqrt{\\frac{Rg}{sin(2\\theta_{i})}}\n",
    "\\end{equation}\n",
    "\n",
    "\\begin{equation}\n",
    "\\phi_{base}(r_{base} + 0.785r_{end}) = \\frac{km_{ball}}{m_{club}}\\sqrt{\\frac{Rg}{sin(2\\theta_{i})}} - 1\n",
    "\\end{equation}\n",
    "\n",
    "\n",
    "Moving the variables around\n",
    "\n",
    "\\begin{equation}\n",
    "\\phi_{base} = \\frac{\\frac{km_{ball}}{m_{club}}\\sqrt{\\frac{Rg}{sin(2\\theta_{i})}} - 1}{r_{base} + 0.785r_{end}}\n",
    "\\end{equation}\n",
    "\n",
    "We now have the relationship between the required base joint rotation angle in the swing and the distance that the ball should travel.\n",
    "\n",
    "However, we still don't know the $k$ constant which describes the strange behavior from physics engine. What we will do here is to plot the analytical solution curve and the numerical solution curve. We will then hand tune the $k$ value to find a analytical curve that matches the numercial curve.\n",
    "\n",
    "Moving the variables around again to get distance based on different rotation range.\n",
    "\\begin{equation}\n",
    "R = \\frac{((\\phi_{base}(r_{base} + 0.785r_{end}) + 1)\\frac{m_{club}}{km_{ball}})^{2}sin(2\\theta_{i})}{g}\n",
    "\\end{equation}\n",
    "\n",
    "The following code shows the result curves. When $k = 5.66985$, the analytical solution is closed to the numercial solution."
   ]
  },
  {
   "cell_type": "code",
   "execution_count": 36,
   "id": "proprietary-station",
   "metadata": {},
   "outputs": [
    {
     "name": "stdout",
     "output_type": "stream",
     "text": [
      "[ 3.56796355  3.56796355  4.13820042  4.13820042  4.75069132  4.75069132\n",
      "  5.40543624  5.40543624  6.10243518  6.10243518  6.84168815  6.84168815\n",
      "  7.62319515  7.62319515  8.44695617  8.44695617  9.31297121  9.31297121\n",
      " 10.22124028 10.22124028 11.17176338 11.17176338 12.16454049 12.16454049]\n"
     ]
    },
    {
     "data": {
      "image/png": "[encoded data removed]",
      "text/plain": [
       "<Figure size 432x288 with 1 Axes>"
      ]
     },
     "metadata": {
      "needs_background": "light"
     },
     "output_type": "display_data"
    },
    {
     "name": "stdout",
     "output_type": "stream",
     "text": [
      "k:  5.669859931780245\n"
     ]
    }
   ],
   "source": [
    "r_end = 0.605\n",
    "arc_base = 3.6\n",
    "r_base = 0.402 + 0.3745\n",
    "\n",
    "energy_loss = 0.1763712\n",
    "mass_ratio = energy_loss*(0.5/0.04593)\n",
    "\n",
    "angle_i = 0.556\n",
    "\n",
    "R = ((((inputs * (0.785*r_end + r_base) + 1)*mass_ratio)**2)*math.sin(2*angle_i))/9.8\n",
    "\n",
    "\n",
    "\n",
    "print(R)\n",
    "\n",
    "plt.scatter(inputs, outputs)\n",
    "plt.scatter(inputs, R)\n",
    "plt.plot(inputs, m*inputs + b)\n",
    "plt.grid()\n",
    "\n",
    "plt.xlabel(\"Base Swing Range (rad)\")\n",
    "plt.ylabel(\"Fly Distance (m)\")\n",
    "plt.show()\n",
    "\n",
    "\n",
    "print(\"k: \", 1.0/energy_loss)\n"
   ]
  },
  {
   "cell_type": "code",
   "execution_count": null,
   "id": "unique-share",
   "metadata": {},
   "outputs": [],
   "source": []
  }
 ],
 "metadata": {
  "kernelspec": {
   "display_name": "Python 3",
   "language": "python",
   "name": "python3"
  },
  "language_info": {
   "codemirror_mode": {
    "name": "ipython",
    "version": 3
   },
   "file_extension": ".py",
   "mimetype": "text/x-python",
   "name": "python",
   "nbconvert_exporter": "python",
   "pygments_lexer": "ipython3",
   "version": "3.8.5"
  }
 },
 "nbformat": 4,
 "nbformat_minor": 5
}
